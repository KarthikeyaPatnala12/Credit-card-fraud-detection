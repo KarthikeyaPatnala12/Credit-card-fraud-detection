{
  "nbformat": 4,
  "nbformat_minor": 0,
  "metadata": {
    "colab": {
      "provenance": []
    },
    "kernelspec": {
      "name": "python3",
      "display_name": "Python 3"
    },
    "language_info": {
      "name": "python"
    }
  },
  "cells": [
    {
      "cell_type": "code",
      "execution_count": 2,
      "metadata": {
        "colab": {
          "base_uri": "https://localhost:8080/",
          "height": 883
        },
        "id": "2_nuQqWAQqxW",
        "outputId": "930d3676-5836-4e0d-d6e8-3b3631fae29c"
      },
      "outputs": [
        {
          "output_type": "stream",
          "name": "stdout",
          "text": [
            "Dataset loaded successfully.\n",
            "Original class distribution:\n",
            "Class\n",
            "0    227451\n",
            "1       394\n",
            "Name: count, dtype: int64\n",
            "Resampled class distribution:\n",
            "Class\n",
            "0    227451\n",
            "1    227451\n",
            "Name: count, dtype: int64\n",
            "Precision: 0.87\n",
            "Recall: 0.83\n"
          ]
        },
        {
          "output_type": "display_data",
          "data": {
            "text/plain": [
              "<Figure size 640x480 with 2 Axes>"
            ],
            "image/png": "[encoded data removed]"
          },
          "metadata": {}
        },
        {
          "output_type": "stream",
          "name": "stdout",
          "text": [
            "Classification Report:\n",
            "              precision    recall  f1-score   support\n",
            "\n",
            "           0       1.00      1.00      1.00     56864\n",
            "           1       0.87      0.83      0.85        98\n",
            "\n",
            "    accuracy                           1.00     56962\n",
            "   macro avg       0.94      0.91      0.92     56962\n",
            "weighted avg       1.00      1.00      1.00     56962\n",
            "\n"
          ]
        }
      ],
      "source": [
        "import numpy as np\n",
        "import pandas as pd\n",
        "import matplotlib.pyplot as plt\n",
        "import seaborn as sns\n",
        "import os\n",
        "from sklearn.model_selection import train_test_split\n",
        "from sklearn.ensemble import RandomForestClassifier\n",
        "from sklearn.metrics import precision_score, recall_score, classification_report, confusion_matrix\n",
        "from sklearn.preprocessing import StandardScaler\n",
        "from imblearn.over_sampling import SMOTE  # Import SMOTE for oversampling\n",
        "\n",
        "## Kaggle API Setup for Automatic Dataset Download\n",
        "kaggle_json = {\n",
        "    \"username\": \"USERNAME\",  # Replace with your Kaggle username\n",
        "    \"key\": \"API_KEY\"  # Replace with your Kaggle API key\n",
        "}\n",
        "\n",
        "os.makedirs(os.path.expanduser(\"~/.kaggle\"), exist_ok=True)\n",
        "with open(os.path.expanduser(\"~/.kaggle/kaggle.json\"), \"w\") as f:\n",
        "    import json\n",
        "    json.dump(kaggle_json, f)\n",
        "os.chmod(os.path.expanduser(\"~/.kaggle/kaggle.json\"), 0o600)\n",
        "\n",
        "## Download Dataset from Kaggle\n",
        "file_path = \"creditcard.csv\"\n",
        "if not os.path.exists(file_path):\n",
        "    try:\n",
        "        import kaggle\n",
        "        kaggle.api.dataset_download_files(\"mlg-ulb/creditcardfraud\", path=\".\", unzip=True)\n",
        "        print(\"Dataset downloaded successfully.\")\n",
        "    except Exception as e:\n",
        "        print(f\"Error downloading dataset: {e}\")\n",
        "        raise SystemExit(\"Dataset not available. Exiting script.\")\n",
        "\n",
        "## Load Dataset\n",
        "df = None  # Initialize df to avoid NameError\n",
        "try:\n",
        "    df = pd.read_csv(file_path)\n",
        "    print(\"Dataset loaded successfully.\")\n",
        "except FileNotFoundError:\n",
        "    print(\"Error: Dataset file not found. Please check if it exists in the directory.\")\n",
        "    raise SystemExit(\"Dataset not available. Exiting script.\")\n",
        "except Exception as e:\n",
        "    print(f\"Unexpected error: {e}\")\n",
        "    raise SystemExit(\"Dataset not available. Exiting script.\")\n",
        "\n",
        "## Check for Missing Values\n",
        "if df.isnull().sum().sum() > 0:\n",
        "    print(\"Warning: Dataset contains missing values. Consider handling them appropriately.\")\n",
        "\n",
        "## Data Preprocessing\n",
        "X = df.drop(columns=['Class'])  # Features\n",
        "y = df['Class']  # Target\n",
        "\n",
        "## Standardize Features (SMOTE works better with scaled data)\n",
        "scaler = StandardScaler()\n",
        "X_scaled = scaler.fit_transform(X)\n",
        "\n",
        "## Split Dataset into Training and Testing Sets\n",
        "X_train, X_test, y_train, y_test = train_test_split(X_scaled, y, test_size=0.2, random_state=42, stratify=y)\n",
        "\n",
        "## Apply SMOTE for Oversampling the Minority Class\n",
        "smote = SMOTE(sampling_strategy=1.0, random_state=42)  # Balances both classes\n",
        "X_train_resampled, y_train_resampled = smote.fit_resample(X_train, y_train)\n",
        "\n",
        "print(f\"Original class distribution:\\n{y_train.value_counts()}\")\n",
        "print(f\"Resampled class distribution:\\n{y_train_resampled.value_counts()}\")\n",
        "\n",
        "## Model Training\n",
        "clf = RandomForestClassifier(n_estimators=100, random_state=42, n_jobs=-1)\n",
        "clf.fit(X_train_resampled, y_train_resampled)\n",
        "\n",
        "## Predictions\n",
        "y_pred = clf.predict(X_test)\n",
        "\n",
        "## Evaluation\n",
        "precision = precision_score(y_test, y_pred)\n",
        "recall = recall_score(y_test, y_pred)\n",
        "print(f\"Precision: {precision:.2f}\")\n",
        "print(f\"Recall: {recall:.2f}\")\n",
        "\n",
        "## Confusion Matrix\n",
        "cm = confusion_matrix(y_test, y_pred)\n",
        "sns.heatmap(cm, annot=True, fmt='d', cmap='Blues', xticklabels=['Non-Fraud', 'Fraud'], yticklabels=['Non-Fraud', 'Fraud'])\n",
        "plt.xlabel('Predicted')\n",
        "plt.ylabel('Actual')\n",
        "plt.title('Confusion Matrix')\n",
        "plt.show()\n",
        "\n",
        "## Classification Report\n",
        "print(\"Classification Report:\")\n",
        "print(classification_report(y_test, y_pred))\n"
      ]
    }
  ]
}